{
 "cells": [
  {
   "cell_type": "markdown",
   "metadata": {},
   "source": [
    "## Import"
   ]
  },
  {
   "cell_type": "code",
   "execution_count": 3,
   "metadata": {},
   "outputs": [],
   "source": [
    "import suite"
   ]
  },
  {
   "cell_type": "markdown",
   "metadata": {},
   "source": [
    "## Reload (if necessary)"
   ]
  },
  {
   "cell_type": "code",
   "execution_count": 4,
   "metadata": {},
   "outputs": [],
   "source": [
    "from importlib import reload\n",
    "suite = reload(suite)"
   ]
  },
  {
   "cell_type": "markdown",
   "metadata": {},
   "source": [
    "## Compare PSO Variants"
   ]
  },
  {
   "cell_type": "code",
   "execution_count": 6,
   "metadata": {},
   "outputs": [],
   "source": [
    "pso_classes = list(suite.optimizers.values())\n",
    "pso_ids = list(suite.optimizers.keys())\n",
    "\n",
    "\n",
    "st = suite.Suite(\"Variants\", pso_ids, pso_classes)\n",
    "\n",
    "st.eval(print_iters=True)\n"
   ]
  },
  {
   "cell_type": "markdown",
   "metadata": {},
   "source": [
    "## Adaswarm Chaotic Variants"
   ]
  },
  {
   "cell_type": "code",
   "execution_count": 7,
   "metadata": {},
   "outputs": [],
   "source": [
    "init_dict = {\n",
    "    'name' : 'lorenz',\n",
    "    'args' : ()\n",
    "}\n",
    "\n",
    "cnames = ['log', 'lorenz', 'tent', 'beach']\n",
    "\n",
    "pso_ids = ['plain'] + cnames\n",
    "pso_classes = [suite.optimizers['adaswarm'].get_plain_swarm()] + \\\n",
    "    [\n",
    "    suite.optimizers['adaswarm'].get_chaotic_swarm({\n",
    "        'init_cmap' : init_dict,\n",
    "        'dyn_cmap' : {\n",
    "            'name'  : cname,\n",
    "            'args'  : ()\n",
    "        }\n",
    "    })\n",
    "    for cname in cnames\n",
    "]\n",
    "\n",
    "st = suite.Suite(\"Chaotic-Adaswarm-Variants\", pso_ids, pso_classes)\n",
    "st.eval(print_iters=True)"
   ]
  },
  {
   "cell_type": "markdown",
   "metadata": {},
   "source": [
    "## Lyapunov Exponent Variants"
   ]
  },
  {
   "cell_type": "code",
   "execution_count": 8,
   "metadata": {},
   "outputs": [],
   "source": [
    "init_dict = None \n",
    "\n",
    "les = [0.5, 1, 1.5, 2, 2.5]\n",
    "\n",
    "pso_ids = ['plain'] + ['0p5', '1', '1p5', '2', '2p5']\n",
    "pso_classes = [suite.optimizers['adaswarm'].get_plain_swarm()] + \\\n",
    "    [\n",
    "    suite.optimizers['adaswarm'].get_chaotic_swarm({\n",
    "        'init_cmap' : init_dict,\n",
    "        'dyn_cmap' : {\n",
    "            'name'  : 'inverse',\n",
    "            'args'  : (le, )\n",
    "        }\n",
    "    })\n",
    "    for le in les\n",
    "]\n",
    "\n",
    "st = suite.Suite(\"LE-Adaswarm-Variants\", pso_ids, pso_classes)\n",
    "st.eval(print_iters=True)"
   ]
  },
  {
   "cell_type": "markdown",
   "metadata": {},
   "source": [
    "## PWLCPSO Variants"
   ]
  },
  {
   "cell_type": "code",
   "execution_count": 9,
   "metadata": {},
   "outputs": [],
   "source": [
    "pso_classes = list(suite.pwlcpso_vars.values())\n",
    "pso_ids = list(suite.pwlcpso_vars.keys())\n",
    "\n",
    "st = suite.Suite(\"PWLCPSO-Variants\", pso_ids, pso_classes)\n",
    "st.eval(1, print_iters=True)"
   ]
  },
  {
   "cell_type": "code",
   "execution_count": null,
   "metadata": {},
   "outputs": [],
   "source": []
  }
 ],
 "metadata": {
  "kernelspec": {
   "display_name": "Python 3",
   "language": "python",
   "name": "python3"
  },
  "language_info": {
   "codemirror_mode": {
    "name": "ipython",
    "version": 3
   },
   "file_extension": ".py",
   "mimetype": "text/x-python",
   "name": "python",
   "nbconvert_exporter": "python",
   "pygments_lexer": "ipython3",
   "version": "3.10.6"
  },
  "vscode": {
   "interpreter": {
    "hash": "916dbcbb3f70747c44a77c7bcd40155683ae19c65e1c03b4aa3499c5328201f1"
   }
  }
 },
 "nbformat": 4,
 "nbformat_minor": 4
}

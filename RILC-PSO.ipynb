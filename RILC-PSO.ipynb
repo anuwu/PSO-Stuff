{
 "cells": [
  {
   "cell_type": "markdown",
   "metadata": {},
   "source": [
    "## Imports"
   ]
  },
  {
   "cell_type": "code",
   "execution_count": 4,
   "metadata": {},
   "outputs": [],
   "source": [
    "import numpy as np\n",
    "import matplotlib.pyplot as plt\n",
    "\n",
    "import benchmark as bench\n",
    "import rpso"
   ]
  },
  {
   "cell_type": "markdown",
   "metadata": {},
   "source": [
    "## Get Objective Function"
   ]
  },
  {
   "cell_type": "code",
   "execution_count": 5,
   "metadata": {},
   "outputs": [],
   "source": [
    "objective = bench.Rastrigin(None, dims=2)\n",
    "llim = objective.llim\n",
    "rlim = objective.rlim\n",
    "func = objective.obj\n",
    "der = objective.objder"
   ]
  },
  {
   "cell_type": "markdown",
   "metadata": {},
   "source": [
    "## RILC-PSO"
   ]
  },
  {
   "cell_type": "code",
   "execution_count": 6,
   "metadata": {},
   "outputs": [
    {
     "name": "stdout",
     "output_type": "stream",
     "text": [
      "Run 1\n",
      "Forward = 205\n",
      "Reverse = 132\n",
      "Run 2\n",
      "Forward = 138\n",
      "Reverse = 80\n",
      "Run 3\n",
      "Forward = 48\n",
      "Reverse = 104\n",
      "Run 4\n",
      "Forward = 300\n",
      "Reverse = 123\n",
      "Run 5\n",
      "Forward = 44\n",
      "\n",
      "Optimum is at f([-1.38501463e-09 -6.32892401e-10]) = 0.0\n",
      "Gradient at optimum = -0.0\n"
     ]
    }
   ],
   "source": [
    "mizer = rpso.RILC_PSO(func, llim, rlim, 25)\n",
    "retpack = mizer.optimize(print_iters=True)\n",
    "opt, approxGrad = retpack['rets']\n",
    "print (\"\\rOptimum is at f({}) = {}\".format(opt, func(opt.reshape(1,-1))[0]))\n",
    "print (\"Gradient at optimum = {}\".format(approxGrad(opt)[0]))"
   ]
  },
  {
   "cell_type": "code",
   "execution_count": null,
   "metadata": {},
   "outputs": [],
   "source": []
  }
 ],
 "metadata": {
  "kernelspec": {
   "display_name": "Python 3",
   "language": "python",
   "name": "python3"
  },
  "language_info": {
   "codemirror_mode": {
    "name": "ipython",
    "version": 3
   },
   "file_extension": ".py",
   "mimetype": "text/x-python",
   "name": "python",
   "nbconvert_exporter": "python",
   "pygments_lexer": "ipython3",
   "version": "3.10.6"
  },
  "vscode": {
   "interpreter": {
    "hash": "916dbcbb3f70747c44a77c7bcd40155683ae19c65e1c03b4aa3499c5328201f1"
   }
  }
 },
 "nbformat": 4,
 "nbformat_minor": 4
}

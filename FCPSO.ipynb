{
 "cells": [
  {
   "cell_type": "markdown",
   "metadata": {},
   "source": [
    "## Imports"
   ]
  },
  {
   "cell_type": "code",
   "execution_count": 4,
   "metadata": {},
   "outputs": [],
   "source": [
    "import numpy as np\n",
    "import matplotlib.pyplot as plt\n",
    "import fcpso\n",
    "import benchmark as bench"
   ]
  },
  {
   "cell_type": "markdown",
   "metadata": {},
   "source": [
    "## Get Objective Function"
   ]
  },
  {
   "cell_type": "code",
   "execution_count": 5,
   "metadata": {},
   "outputs": [],
   "source": [
    "objective = bench.Rastrigin(None, dims=5)\n",
    "llim = objective.llim\n",
    "rlim = objective.rlim\n",
    "func = objective.obj\n",
    "der = objective.objder"
   ]
  },
  {
   "cell_type": "markdown",
   "metadata": {},
   "source": [
    "## Get Optimizer"
   ]
  },
  {
   "cell_type": "code",
   "execution_count": 6,
   "metadata": {},
   "outputs": [
    {
     "name": "stdout",
     "output_type": "stream",
     "text": [
      "3074\n",
      "Optimum is at f([ 1.03704981e-07 -4.07739929e-08  7.09597345e-09  6.10227274e-08\n",
      " -9.74216666e-08]) = 5.094591415399918e-12\n",
      "Gradient at optimum = -0.0\n"
     ]
    }
   ],
   "source": [
    "mizer = fcpso.FCPSOem_Beta(func, llim, rlim, 25)\n",
    "retpack = mizer.optimize(print_iters=True)\n",
    "\n",
    "opt, approxGrad = retpack['rets']\n",
    "print (\"\\rOptimum is at f({}) = {}\".format(opt, func(opt.reshape(1,-1))[0]))\n",
    "print (\"Gradient at optimum = {}\".format(approxGrad(opt)[0]))"
   ]
  },
  {
   "cell_type": "code",
   "execution_count": null,
   "metadata": {},
   "outputs": [],
   "source": []
  }
 ],
 "metadata": {
  "kernelspec": {
   "display_name": "Python 3",
   "language": "python",
   "name": "python3"
  },
  "language_info": {
   "codemirror_mode": {
    "name": "ipython",
    "version": 3
   },
   "file_extension": ".py",
   "mimetype": "text/x-python",
   "name": "python",
   "nbconvert_exporter": "python",
   "pygments_lexer": "ipython3",
   "version": "3.10.6"
  },
  "vscode": {
   "interpreter": {
    "hash": "916dbcbb3f70747c44a77c7bcd40155683ae19c65e1c03b4aa3499c5328201f1"
   }
  }
 },
 "nbformat": 4,
 "nbformat_minor": 4
}

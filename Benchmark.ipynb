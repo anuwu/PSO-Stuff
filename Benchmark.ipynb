{
 "cells": [
  {
   "cell_type": "markdown",
   "metadata": {},
   "source": [
    "## Imports"
   ]
  },
  {
   "cell_type": "code",
   "execution_count": 6,
   "metadata": {},
   "outputs": [],
   "source": [
    "import numpy as np\n",
    "import matplotlib.pyplot as plt\n",
    "\n",
    "import benchmark as bm\n",
    "import suite"
   ]
  },
  {
   "cell_type": "markdown",
   "metadata": {},
   "source": [
    "## Reload (if necessary)"
   ]
  },
  {
   "cell_type": "code",
   "execution_count": 7,
   "metadata": {},
   "outputs": [],
   "source": [
    "from importlib import reload\n",
    "\n",
    "bm = reload(bm)\n",
    "suite = reload(suite)"
   ]
  },
  {
   "cell_type": "markdown",
   "metadata": {},
   "source": [
    "## Benchmark"
   ]
  },
  {
   "cell_type": "code",
   "execution_count": 8,
   "metadata": {},
   "outputs": [
    {
     "name": "stdout",
     "output_type": "stream",
     "text": [
      "Benchmarking Vanilla PSO on Rosenbrock2D 2-D\n",
      "Run 1\n",
      "Run 2\n",
      "Run 3\n",
      "Run 4\n",
      "Run 5\n",
      "Run 6\n",
      "Run 7\n",
      "Run 8\n",
      "Run 9\n",
      "Run 10\n",
      "\n",
      "Benchmarking Adaswarm on Rosenbrock2D 2-D\n",
      "Run 1\n",
      "Run 2\n",
      "Run 3\n",
      "Run 4\n",
      "Run 5\n",
      "Run 6\n",
      "Run 7\n",
      "Run 8\n",
      "Run 9\n",
      "Run 10\n",
      "\n",
      "Benchmarking Reverse-Informed PSO on Rosenbrock2D 2-D\n",
      "Run 1\n",
      "Run 2\n",
      "Run 3\n",
      "Run 4\n",
      "Run 5\n",
      "Run 6\n",
      "Run 7\n",
      "Run 8\n",
      "Run 9\n",
      "Run 10\n"
     ]
    }
   ],
   "source": [
    "bench_iters = 10\n",
    "dims = 2\n",
    "\n",
    "# Get benchmarker for rastrigin\n",
    "bench = bm.all_benches['rosenbrock2D']\n",
    "\n",
    "##########################################################################################\n",
    "\n",
    "# Vanilla PSO\n",
    "opter1 = suite.optimizers['vanilla']\n",
    "evaluator1 = bench(opter1)\n",
    "print(f\"Benchmarking Vanilla PSO on {evaluator1}\")\n",
    "spec1 = evaluator1.eval(bench_iters)\n",
    "\n",
    "\n",
    "##########################################################################################\n",
    "\n",
    "\n",
    "# Adaswarm\n",
    "opter2 = suite.optimizers['adaswarm'].get_plain_swarm()\n",
    "evaluator2 = bench(opter2)\n",
    "print(f\"\\nBenchmarking Adaswarm on {evaluator2}\")\n",
    "spec2 = evaluator2.eval(bench_iters)\n",
    "\n",
    "##########################################################################################\n",
    "\n",
    "# Reverse-Informed PSO\n",
    "opter3 = suite.optimizers['rilcpso']\n",
    "evaluator3 = bench(opter3)\n",
    "print(f\"\\nBenchmarking Reverse-Informed PSO on {evaluator3}\")\n",
    "spec3 = evaluator3.eval(bench_iters)"
   ]
  },
  {
   "cell_type": "markdown",
   "metadata": {},
   "source": [
    "## Printing Overall specs"
   ]
  },
  {
   "cell_type": "code",
   "execution_count": 9,
   "metadata": {},
   "outputs": [
    {
     "name": "stdout",
     "output_type": "stream",
     "text": [
      "   vanilla                mean_iters                     754.3\n",
      "  adaswarm                mean_iters                    1864.1\n",
      "     ripso                mean_iters                     656.0\n",
      "\n",
      "   vanilla               mean_minima    4.0255250909022223e-10\n",
      "  adaswarm               mean_minima          3.72063293146551\n",
      "     ripso               mean_minima      3.67485319050341e-11\n",
      "\n",
      "   vanilla         mean_mean_fitness     0.0011541341979718997\n",
      "  adaswarm         mean_mean_fitness        15292.926348508397\n",
      "     ripso         mean_mean_fitness     0.0009007312840583053\n",
      "\n",
      "   vanilla              mean_no_conv                      25.0\n",
      "  adaswarm              mean_no_conv                      23.7\n",
      "     ripso              mean_no_conv                      25.0\n",
      "\n",
      "   vanilla              mean_min_err    4.0255250909022223e-10\n",
      "  adaswarm              mean_min_err          3.72063293146551\n",
      "     ripso              mean_min_err      3.67485319050341e-11\n",
      "\n",
      "   vanilla           mean_argmin_err        1.4142239049558678\n",
      "  adaswarm           mean_argmin_err        6.1461510589932855\n",
      "     ripso           mean_argmin_err        1.4142098246564265\n",
      "\n",
      "   vanilla                 std_iters         319.2995980788785\n",
      "  adaswarm                 std_iters        2890.6673374076713\n",
      "     ripso                 std_iters         296.3616409426534\n",
      "\n",
      "   vanilla                std_minima     9.219050073635148e-10\n",
      "  adaswarm                std_minima        11.765674400860139\n",
      "     ripso                std_minima    1.1620906148726827e-10\n",
      "\n",
      "   vanilla                succ_ratio                       0.0\n",
      "  adaswarm                succ_ratio                       0.0\n",
      "     ripso                succ_ratio                       0.0\n",
      "\n"
     ]
    }
   ],
   "source": [
    "keys = [k for k in spec1['ospec'].keys() if k != 'conv_curves']\n",
    "specs = {\n",
    "    'vanilla'      : spec1['ospec'],\n",
    "    'adaswarm'     : spec2['ospec'],\n",
    "    'ripso'        : spec3['ospec']\n",
    "}\n",
    "\n",
    "for k in keys :\n",
    "    for pso_type, spec in specs.items() :\n",
    "        print(\"{:>10} {:>25} {:>25}\".format(pso_type, k, spec[k]))\n",
    "    print(\"\\n\", end=\"\")"
   ]
  },
  {
   "cell_type": "markdown",
   "metadata": {},
   "source": [
    "## Print Worst and Best Convergence Curve"
   ]
  },
  {
   "cell_type": "code",
   "execution_count": 10,
   "metadata": {},
   "outputs": [
    {
     "data": {
      "text/plain": [
       "<matplotlib.legend.Legend at 0x7f3a7ebf3130>"
      ]
     },
     "execution_count": 10,
     "metadata": {},
     "output_type": "execute_result"
    },
    {
     "data": {
      "image/png": "[encoded data removed]",
      "text/plain": [
       "<Figure size 1000x500 with 2 Axes>"
      ]
     },
     "metadata": {},
     "output_type": "display_data"
    }
   ],
   "source": [
    "fig, ax = plt.subplots(1, 2, gridspec_kw={'width_ratios' : [1, 1]})\n",
    "fig.set_figheight(5)\n",
    "fig.set_figwidth(10)\n",
    "\n",
    "ccb1, ccw1 = spec1['ospec']['conv_curves']\n",
    "ccb2, ccw2 = spec2['ospec']['conv_curves']\n",
    "ccb3, ccw3 = spec3['ospec']['conv_curves']\n",
    "\n",
    "ax[0].plot(np.arange(len(ccb1)), ccb1, 'r', label='Vanilla')\n",
    "ax[0].plot(np.arange(len(ccb2)), ccb2, 'b', label='Adaswarm')\n",
    "ax[0].plot(np.arange(len(ccb3)), ccb3, 'k', label='Reverse-Informed')\n",
    "ax[0].legend()\n",
    "\n",
    "ax[1].plot(np.arange(len(ccw1)), ccw1, 'r', label='Vanilla')\n",
    "ax[1].plot(np.arange(len(ccw2)), ccw2, 'b', label='Adaswarm')\n",
    "ax[1].plot(np.arange(len(ccw3)), ccw3, 'k', label='Reverse-Informed')\n",
    "ax[1].legend()"
   ]
  },
  {
   "cell_type": "code",
   "execution_count": null,
   "metadata": {},
   "outputs": [],
   "source": []
  }
 ],
 "metadata": {
  "kernelspec": {
   "display_name": "Python 3",
   "language": "python",
   "name": "python3"
  },
  "language_info": {
   "codemirror_mode": {
    "name": "ipython",
    "version": 3
   },
   "file_extension": ".py",
   "mimetype": "text/x-python",
   "name": "python",
   "nbconvert_exporter": "python",
   "pygments_lexer": "ipython3",
   "version": "3.10.6"
  },
  "vscode": {
   "interpreter": {
    "hash": "916dbcbb3f70747c44a77c7bcd40155683ae19c65e1c03b4aa3499c5328201f1"
   }
  }
 },
 "nbformat": 4,
 "nbformat_minor": 4
}
